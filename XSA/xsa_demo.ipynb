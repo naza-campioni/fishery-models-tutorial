{
  "nbformat": 4,
  "nbformat_minor": 0,
  "metadata": {
    "colab": {
      "provenance": [],
      "authorship_tag": "ABX9TyNL0T1qxMLfgITC3oCDTPwk",
      "include_colab_link": true
    },
    "kernelspec": {
      "name": "python3",
      "display_name": "Python 3"
    },
    "language_info": {
      "name": "python"
    }
  },
  "cells": [
    {
      "cell_type": "markdown",
      "metadata": {
        "id": "view-in-github",
        "colab_type": "text"
      },
      "source": [
        "<a href=\"https://colab.research.google.com/github/naza-campioni/fishery-models-tutorial/blob/main/XSA/xsa_demo.ipynb\" target=\"_parent\"><img src=\"https://colab.research.google.com/assets/colab-badge.svg\" alt=\"Open In Colab\"/></a>"
      ]
    },
    {
      "cell_type": "markdown",
      "source": [
        "**Notebook example to use the XSA model from Shepherd (1999) - Extended Survivors Analysis: an improved method for the estimation of stock abundance from catch and survey data**"
      ],
      "metadata": {
        "id": "K8akWuDy_8E9"
      }
    },
    {
      "cell_type": "code",
      "execution_count": 1,
      "metadata": {
        "colab": {
          "base_uri": "https://localhost:8080/"
        },
        "id": "_phdiNRKRUgw",
        "outputId": "e91be263-3278-41c2-c3f6-d7a468dba3f9"
      },
      "outputs": [
        {
          "output_type": "stream",
          "name": "stdout",
          "text": [
            "Cloning into 'fishery-models-tutorial'...\n",
            "remote: Enumerating objects: 166, done.\u001b[K\n",
            "remote: Counting objects: 100% (166/166), done.\u001b[K\n",
            "remote: Compressing objects: 100% (149/149), done.\u001b[K\n",
            "remote: Total 166 (delta 65), reused 0 (delta 0), pack-reused 0 (from 0)\u001b[K\n",
            "Receiving objects: 100% (166/166), 331.13 KiB | 3.56 MiB/s, done.\n",
            "Resolving deltas: 100% (65/65), done.\n"
          ]
        }
      ],
      "source": [
        "!git clone https://github.com/naza-campioni/fishery-models-tutorial.git"
      ]
    },
    {
      "cell_type": "code",
      "source": [
        "import sys\n",
        "sys.path.append('/content/fishery-models-tutorial/XSA')"
      ],
      "metadata": {
        "id": "sG-fsz5dRcTg"
      },
      "execution_count": 2,
      "outputs": []
    },
    {
      "cell_type": "code",
      "source": [
        "import numpy as np\n",
        "import matplotlib.pyplot as plt\n",
        "import importlib\n",
        "from tabulate import tabulate"
      ],
      "metadata": {
        "id": "W53kNx3yRhFR"
      },
      "execution_count": 3,
      "outputs": []
    },
    {
      "cell_type": "code",
      "source": [
        "# Go to repo directory (only if you've already cloned it)\n",
        "%cd /content/fishery-models-tutorial\n",
        "!git pull       # to pull changes"
      ],
      "metadata": {
        "colab": {
          "base_uri": "https://localhost:8080/"
        },
        "id": "TtO8vsb0Rliw",
        "outputId": "e5d9f6b9-b509-4a1c-9856-9af7e5fec6a0"
      },
      "execution_count": 4,
      "outputs": [
        {
          "output_type": "stream",
          "name": "stdout",
          "text": [
            "/content/fishery-models-tutorial\n",
            "Already up to date.\n"
          ]
        }
      ]
    },
    {
      "cell_type": "code",
      "source": [
        "import xsa_model"
      ],
      "metadata": {
        "id": "gFubiI3pVuMj"
      },
      "execution_count": 5,
      "outputs": []
    },
    {
      "cell_type": "code",
      "source": [
        "importlib.reload(xsa_model)"
      ],
      "metadata": {
        "colab": {
          "base_uri": "https://localhost:8080/"
        },
        "id": "sinTLu-pVjPV",
        "outputId": "9454b454-f04c-449d-8d11-686b5bce1ffb"
      },
      "execution_count": 6,
      "outputs": [
        {
          "output_type": "execute_result",
          "data": {
            "text/plain": [
              "<module 'xsa_model' from '/content/fishery-models-tutorial/XSA/xsa_model.py'>"
            ]
          },
          "metadata": {},
          "execution_count": 6
        }
      ]
    },
    {
      "cell_type": "code",
      "source": [
        "from xsa_model import main_XSA"
      ],
      "metadata": {
        "id": "CTnw7mAVVEYX"
      },
      "execution_count": 7,
      "outputs": []
    },
    {
      "cell_type": "markdown",
      "source": [
        "Create synthetic data"
      ],
      "metadata": {
        "id": "BqH7YrlGBi56"
      }
    },
    {
      "cell_type": "code",
      "source": [
        "np.random.seed(42)\n",
        "\n",
        "a, y = 5, 7\n",
        "sigma = np.random.normal(loc=1.5, scale=.3, size = a) + 0.1 # error\n",
        "\n",
        "C_ay = np.zeros((a,y))\n",
        "u_ay = np.zeros((a,y))\n",
        "\n",
        "for i in range(a):\n",
        "  C_ay[i,:] = np.random.randint(low=(1400-100*i), high=(1500-100*i), size=(y))\n",
        "\n",
        "for i in range(a):\n",
        "  u_ay[i,:] = np.random.randint(low=(140-10*i), high=(150-10*i), size=(y))\n",
        "\n",
        "w = np.random.random(size=(a, y)) # random weights\n",
        "\n",
        "for i in range(a):\n",
        "  w[i,:] = w[i,:] / sigma[i]**2\n",
        "\n",
        "w = np.sort(w, axis=1)[:,::-1] # downweight old data\n",
        "# w /= np.sum(w, axis=1, keepdims=True)\n",
        "\n",
        "# w = np.ones((a,y),dtype=np.float64)"
      ],
      "metadata": {
        "id": "vcXR7Ir1SLyj"
      },
      "execution_count": 8,
      "outputs": []
    },
    {
      "cell_type": "code",
      "source": [
        "print(tabulate(C_ay))"
      ],
      "metadata": {
        "colab": {
          "base_uri": "https://localhost:8080/"
        },
        "id": "L1lpAvQsEf3M",
        "outputId": "c77746ec-05da-4bd1-80cb-8bdd68a4da1b"
      },
      "execution_count": 9,
      "outputs": [
        {
          "output_type": "stream",
          "name": "stdout",
          "text": [
            "----  ----  ----  ----  ----  ----  ----\n",
            "1474  1474  1487  1499  1423  1402  1421\n",
            "1352  1301  1387  1329  1337  1301  1363\n",
            "1259  1220  1232  1275  1257  1221  1288\n",
            "1148  1190  1158  1141  1191  1159  1179\n",
            "1014  1061  1061  1046  1061  1050  1054\n",
            "----  ----  ----  ----  ----  ----  ----\n"
          ]
        }
      ]
    },
    {
      "cell_type": "code",
      "source": [
        "print(tabulate(u_ay))"
      ],
      "metadata": {
        "colab": {
          "base_uri": "https://localhost:8080/"
        },
        "id": "bNOSOpk4EitC",
        "outputId": "87d805c2-8838-4394-fa64-a0899f09d68d"
      },
      "execution_count": 10,
      "outputs": [
        {
          "output_type": "stream",
          "name": "stdout",
          "text": [
            "---  ---  ---  ---  ---  ---  ---\n",
            "143  148  142  144  142  146  144\n",
            "138  136  131  133  138  131  139\n",
            "128  129  124  121  123  126  127\n",
            "112  110  113  111  117  113  111\n",
            "105  105  109  103  105  101  109\n",
            "---  ---  ---  ---  ---  ---  ---\n"
          ]
        }
      ]
    },
    {
      "cell_type": "code",
      "source": [
        "print(sigma)"
      ],
      "metadata": {
        "colab": {
          "base_uri": "https://localhost:8080/"
        },
        "id": "IWZdSxp7FMRo",
        "outputId": "1771f62e-400a-47f0-a939-342f92aabec5"
      },
      "execution_count": 11,
      "outputs": [
        {
          "output_type": "stream",
          "name": "stdout",
          "text": [
            "[1.74901425 1.55852071 1.79430656 2.05690896 1.52975399]\n"
          ]
        }
      ]
    },
    {
      "cell_type": "code",
      "source": [
        "print(tabulate(w))"
      ],
      "metadata": {
        "colab": {
          "base_uri": "https://localhost:8080/"
        },
        "id": "7wBsT3g6FF_u",
        "outputId": "f5f09e40-26d0-4c81-93e6-cb5a8ea4c0fa"
      },
      "execution_count": 12,
      "outputs": [
        {
          "output_type": "stream",
          "name": "stdout",
          "text": [
            "--------  --------  ---------  ---------  ---------  ---------  ----------\n",
            "0.302924  0.237744  0.186477   0.17026    0.147024   0.129174   0.106746\n",
            "0.39739   0.395709  0.34769    0.307667   0.249913   0.241562   0.222188\n",
            "0.13151   0.122652  0.0920237  0.0911585  0.0857264  0.0513325  0.00485673\n",
            "0.218938  0.186764  0.168131   0.153887   0.143223   0.0469979  0.00332788\n",
            "0.390984  0.363241  0.285812   0.284564   0.192061   0.158459   0.040771\n",
            "--------  --------  ---------  ---------  ---------  ---------  ----------\n"
          ]
        }
      ]
    },
    {
      "cell_type": "markdown",
      "source": [
        "Assume natural mortality and terminal fishing mortality"
      ],
      "metadata": {
        "id": "jMff2izABsoj"
      }
    },
    {
      "cell_type": "code",
      "source": [
        "M = 0.1 # natural mortality\n",
        "F_AY = 0.2 # terminal fishing mortality\n"
      ],
      "metadata": {
        "id": "3wqIN4xETLK2"
      },
      "execution_count": 13,
      "outputs": []
    },
    {
      "cell_type": "markdown",
      "source": [
        "Run model"
      ],
      "metadata": {
        "id": "bVo76YqQBz4B"
      }
    },
    {
      "cell_type": "code",
      "source": [
        "N_ay, F_ay, Pk, N_ay_vpa = main_XSA(a, y, C_ay, u_ay, M, F_AY, w, iterations=1000)"
      ],
      "metadata": {
        "colab": {
          "base_uri": "https://localhost:8080/"
        },
        "id": "4Ed1W9C2ByyD",
        "outputId": "eeee4e14-c4b8-48c9-ffb2-16e9e4e4cf5f"
      },
      "execution_count": 14,
      "outputs": [
        {
          "output_type": "stream",
          "name": "stderr",
          "text": [
            "100%|██████████| 1000/1000 [00:00<00:00, 3072.28it/s]\n"
          ]
        }
      ]
    },
    {
      "cell_type": "code",
      "source": [
        "print(tabulate(N_ay))"
      ],
      "metadata": {
        "colab": {
          "base_uri": "https://localhost:8080/"
        },
        "id": "Yii444kJUSIg",
        "outputId": "341ffec3-3d6f-4f78-fdc0-77c55c4a2259"
      },
      "execution_count": 15,
      "outputs": [
        {
          "output_type": "stream",
          "name": "stdout",
          "text": [
            "-------  -------  -------  -------  --------  --------  -------\n",
            "19407.2  19664.2  19825.7  20113    19207.3   16971.9   11325.4\n",
            "18700.3  16027.2  16281    16395.5  16531.9   15693.2   13551.3\n",
            "18443.2  15634.7  13214.3  13343.3  13516     13521.5   12686.7\n",
            "18176.6  15490.5  12986.4  10757.7  10828.9   11003     10946.5\n",
            "18035.7  15354.8  12884.4  10649     8640.64   8651.34   8842.9\n",
            "-------  -------  -------  -------  --------  --------  -------\n"
          ]
        }
      ]
    },
    {
      "cell_type": "code",
      "source": [
        "print(tabulate(N_ay_vpa))"
      ],
      "metadata": {
        "colab": {
          "base_uri": "https://localhost:8080/"
        },
        "id": "21qF-1zaZJkg",
        "outputId": "583d9b07-6c4f-43b3-fbd6-9d5a0f68179b"
      },
      "execution_count": 16,
      "outputs": [
        {
          "output_type": "stream",
          "name": "stdout",
          "text": [
            "-------  -------  -------  -------  --------  --------  -------\n",
            "20861    18192.2  15466.1  13907.6  12112.1   10191.8   8223.96\n",
            "20408.8  17473.7  15058.8  12579.8  11158.3    9605.9   7888.29\n",
            "20151.6  17180.5  14573.3  12306.4  10118.5    8824.62  7454.23\n",
            "19885    17036.3  14385.1  12014.5   9922.5    7959.93  6823.4\n",
            "19744.1  16900.7  14283.1  11914.7   9785.84   7845.34  6099.97\n",
            "-------  -------  -------  -------  --------  --------  -------\n"
          ]
        }
      ]
    },
    {
      "cell_type": "code",
      "source": [
        "print(tabulate(F_ay))"
      ],
      "metadata": {
        "colab": {
          "base_uri": "https://localhost:8080/"
        },
        "id": "Mg1hz3SdZe34",
        "outputId": "0287dbe0-9ad0-4378-fdbf-6c7278c41e5e"
      },
      "execution_count": 17,
      "outputs": [
        {
          "output_type": "stream",
          "name": "stdout",
          "text": [
            "---  ---  --------  --------  --------  --------  ---\n",
            "0.2  0.2  0.2       0.2       0.102062  0.125074  0.2\n",
            "0.2  0.2  0.2       0.2       0.101012  0.112677  0.2\n",
            "0.2  0.2  0.105677  0.108796  0.105711  0.11126   0.2\n",
            "0.2  0.2  0.2       0.119148  0.124501  0.118548  0.2\n",
            "0.2  0.2  0.2       0.119148  0.124501  0.118548  0.2\n",
            "---  ---  --------  --------  --------  --------  ---\n"
          ]
        }
      ]
    },
    {
      "cell_type": "code",
      "source": [
        "print(Pk)"
      ],
      "metadata": {
        "colab": {
          "base_uri": "https://localhost:8080/"
        },
        "id": "9jBg0Fq0EAKo",
        "outputId": "ee8fb733-58e5-472f-a8cb-358827771125"
      },
      "execution_count": 18,
      "outputs": [
        {
          "output_type": "stream",
          "name": "stdout",
          "text": [
            "[6809.12181722 6829.26944289 6998.79366641 7840.73213037 8173.32177978\n",
            " 7787.18367276 5517.48149269]\n"
          ]
        }
      ]
    },
    {
      "cell_type": "code",
      "source": [
        "years = ['1990', '1991', '1992', '1993', '1994', '1995', '1996']\n",
        "plt.plot(years, np.sum(N_ay, axis=0), label='XSA')\n",
        "plt.plot(years, np.sum(N_ay_vpa, axis=0), label='VPA')\n",
        "plt.legend()\n",
        "plt.xlabel('Years')\n",
        "plt.ylabel('Stock population size')\n",
        "plt.title('XSA vs VPA population abundance estimate')"
      ],
      "metadata": {
        "colab": {
          "base_uri": "https://localhost:8080/",
          "height": 489
        },
        "id": "6q0WkZlVaIfI",
        "outputId": "4568004e-d318-477a-c995-6c31a66ccfe8"
      },
      "execution_count": 19,
      "outputs": [
        {
          "output_type": "execute_result",
          "data": {
            "text/plain": [
              "Text(0.5, 1.0, 'XSA vs VPA population abundance estimate')"
            ]
          },
          "metadata": {},
          "execution_count": 19
        },
        {
          "output_type": "display_data",
          "data": {
            "text/plain": [
              "<Figure size 640x480 with 1 Axes>"
            ],
            "image/png": "[encoded data removed]"
          },
          "metadata": {}
        }
      ]
    },
    {
      "cell_type": "markdown",
      "source": [
        "The VPA overestimates the early-year abundances and XSA corrects it"
      ],
      "metadata": {
        "id": "itunpxXjPKu8"
      }
    }
  ]
}