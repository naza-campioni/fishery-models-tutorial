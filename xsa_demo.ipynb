{
  "nbformat": 4,
  "nbformat_minor": 0,
  "metadata": {
    "colab": {
      "provenance": [],
      "authorship_tag": "ABX9TyP2iNF1XfV4oVEqXxhWP+ZA",
      "include_colab_link": true
    },
    "kernelspec": {
      "name": "python3",
      "display_name": "Python 3"
    },
    "language_info": {
      "name": "python"
    }
  },
  "cells": [
    {
      "cell_type": "markdown",
      "metadata": {
        "id": "view-in-github",
        "colab_type": "text"
      },
      "source": [
        "<a href=\"https://colab.research.google.com/github/naza-campioni/fishery-models-tutorial/blob/main/xsa_demo.ipynb\" target=\"_parent\"><img src=\"https://colab.research.google.com/assets/colab-badge.svg\" alt=\"Open In Colab\"/></a>"
      ]
    },
    {
      "cell_type": "markdown",
      "source": [
        "**Notebook example to use the XSA model from Shepherd (1999) - Extended Survivors Analysis: an improved method for the estimation of stock abundance from catch and survey data**"
      ],
      "metadata": {
        "id": "K8akWuDy_8E9"
      }
    },
    {
      "cell_type": "code",
      "execution_count": 311,
      "metadata": {
        "colab": {
          "base_uri": "https://localhost:8080/"
        },
        "id": "_phdiNRKRUgw",
        "outputId": "93b77b24-28ca-4005-a3cb-a651954bf1d3"
      },
      "outputs": [
        {
          "output_type": "stream",
          "name": "stdout",
          "text": [
            "Cloning into 'fishery-models-tutorial'...\n",
            "remote: Enumerating objects: 143, done.\u001b[K\n",
            "remote: Counting objects: 100% (143/143), done.\u001b[K\n",
            "remote: Compressing objects: 100% (126/126), done.\u001b[K\n",
            "remote: Total 143 (delta 54), reused 0 (delta 0), pack-reused 0 (from 0)\u001b[K\n",
            "Receiving objects: 100% (143/143), 231.28 KiB | 4.63 MiB/s, done.\n",
            "Resolving deltas: 100% (54/54), done.\n"
          ]
        }
      ],
      "source": [
        "!git clone https://github.com/naza-campioni/fishery-models-tutorial.git"
      ]
    },
    {
      "cell_type": "code",
      "source": [
        "import sys\n",
        "sys.path.append('/content/fishery-models-tutorial/XSA')"
      ],
      "metadata": {
        "id": "sG-fsz5dRcTg"
      },
      "execution_count": 312,
      "outputs": []
    },
    {
      "cell_type": "code",
      "source": [
        "import numpy as np\n",
        "import matplotlib.pyplot as plt\n",
        "import importlib\n",
        "from tabulate import tabulate"
      ],
      "metadata": {
        "id": "W53kNx3yRhFR"
      },
      "execution_count": 313,
      "outputs": []
    },
    {
      "cell_type": "code",
      "source": [
        "# Go to repo directory (only if you've already cloned it)\n",
        "%cd /content/fishery-models-tutorial\n",
        "!git pull       # to pull changes"
      ],
      "metadata": {
        "colab": {
          "base_uri": "https://localhost:8080/"
        },
        "id": "TtO8vsb0Rliw",
        "outputId": "3f49a1e6-952b-41ba-c491-cd40c723cb09"
      },
      "execution_count": 314,
      "outputs": [
        {
          "output_type": "stream",
          "name": "stdout",
          "text": [
            "/content/fishery-models-tutorial\n",
            "remote: Enumerating objects: 7, done.\u001b[K\n",
            "remote: Counting objects: 100% (7/7), done.\u001b[K\n",
            "remote: Compressing objects: 100% (4/4), done.\u001b[K\n",
            "remote: Total 4 (delta 2), reused 0 (delta 0), pack-reused 0 (from 0)\u001b[K\n",
            "Unpacking objects: 100% (4/4), 1022 bytes | 1022.00 KiB/s, done.\n",
            "From https://github.com/naza-campioni/fishery-models-tutorial\n",
            "   ae4000b..0d5ec84  main       -> origin/main\n",
            "Updating ae4000b..0d5ec84\n",
            "Fast-forward\n",
            " XSA/xsa_model.py | 1 \u001b[31m-\u001b[m\n",
            " 1 file changed, 1 deletion(-)\n"
          ]
        }
      ]
    },
    {
      "cell_type": "code",
      "source": [
        "import xsa_model"
      ],
      "metadata": {
        "id": "gFubiI3pVuMj"
      },
      "execution_count": 315,
      "outputs": []
    },
    {
      "cell_type": "code",
      "source": [
        "importlib.reload(xsa_model)"
      ],
      "metadata": {
        "colab": {
          "base_uri": "https://localhost:8080/"
        },
        "id": "sinTLu-pVjPV",
        "outputId": "d0aa75c6-e287-4ffb-851a-5f3ebe1be7b2"
      },
      "execution_count": 316,
      "outputs": [
        {
          "output_type": "execute_result",
          "data": {
            "text/plain": [
              "<module 'xsa_model' from '/content/fishery-models-tutorial/XSA/xsa_model.py'>"
            ]
          },
          "metadata": {},
          "execution_count": 316
        }
      ]
    },
    {
      "cell_type": "code",
      "source": [
        "from xsa_model import main_XSA"
      ],
      "metadata": {
        "id": "CTnw7mAVVEYX"
      },
      "execution_count": 317,
      "outputs": []
    },
    {
      "cell_type": "markdown",
      "source": [
        "Create synthetic data"
      ],
      "metadata": {
        "id": "BqH7YrlGBi56"
      }
    },
    {
      "cell_type": "code",
      "source": [
        "np.random.seed(42)\n",
        "\n",
        "a, y = 5, 7\n",
        "sigma = np.random.normal(loc=1.5, scale=.3, size = a) + 0.1 # error\n",
        "\n",
        "C_ay = np.zeros((a,y))\n",
        "u_ay = np.zeros((a,y))\n",
        "\n",
        "for i in range(a):\n",
        "  C_ay[i,:] = np.random.randint(low=(1400-100*i), high=(1500-100*i), size=(y))\n",
        "\n",
        "for i in range(a):\n",
        "  u_ay[i,:] = np.random.randint(low=(140-10*i), high=(150-10*i), size=(y))\n",
        "\n",
        "w = np.random.random(size=(a, y)) # random weights\n",
        "\n",
        "for i in range(a):\n",
        "  w[i,:] = w[i,:] / sigma[i]**2\n",
        "\n",
        "w = np.sort(w, axis=1)[:,::-1] # downweight old data\n",
        "# w /= np.sum(w, axis=1, keepdims=True)\n",
        "\n",
        "# w = np.ones((a,y),dtype=np.float64)"
      ],
      "metadata": {
        "id": "vcXR7Ir1SLyj"
      },
      "execution_count": 354,
      "outputs": []
    },
    {
      "cell_type": "code",
      "source": [
        "print(tabulate(C_ay))"
      ],
      "metadata": {
        "colab": {
          "base_uri": "https://localhost:8080/"
        },
        "id": "L1lpAvQsEf3M",
        "outputId": "bbaa77d9-95b9-4031-c1c8-687ddad68392"
      },
      "execution_count": 355,
      "outputs": [
        {
          "output_type": "stream",
          "name": "stdout",
          "text": [
            "----  ----  ----  ----  ----  ----  ----\n",
            "1474  1474  1487  1499  1423  1402  1421\n",
            "1352  1301  1387  1329  1337  1301  1363\n",
            "1259  1220  1232  1275  1257  1221  1288\n",
            "1148  1190  1158  1141  1191  1159  1179\n",
            "1014  1061  1061  1046  1061  1050  1054\n",
            "----  ----  ----  ----  ----  ----  ----\n"
          ]
        }
      ]
    },
    {
      "cell_type": "code",
      "source": [
        "print(tabulate(u_ay))"
      ],
      "metadata": {
        "colab": {
          "base_uri": "https://localhost:8080/"
        },
        "id": "bNOSOpk4EitC",
        "outputId": "fe99e20d-adee-42b7-a731-4c130d597e78"
      },
      "execution_count": 356,
      "outputs": [
        {
          "output_type": "stream",
          "name": "stdout",
          "text": [
            "---  ---  ---  ---  ---  ---  ---\n",
            "143  148  142  144  142  146  144\n",
            "138  136  131  133  138  131  139\n",
            "128  129  124  121  123  126  127\n",
            "112  110  113  111  117  113  111\n",
            "105  105  109  103  105  101  109\n",
            "---  ---  ---  ---  ---  ---  ---\n"
          ]
        }
      ]
    },
    {
      "cell_type": "code",
      "source": [
        "print(sigma)"
      ],
      "metadata": {
        "colab": {
          "base_uri": "https://localhost:8080/"
        },
        "id": "IWZdSxp7FMRo",
        "outputId": "6045ff40-f513-456c-8762-66b1047fad00"
      },
      "execution_count": 357,
      "outputs": [
        {
          "output_type": "stream",
          "name": "stdout",
          "text": [
            "[1.74901425 1.55852071 1.79430656 2.05690896 1.52975399]\n"
          ]
        }
      ]
    },
    {
      "cell_type": "code",
      "source": [
        "print(tabulate(w))"
      ],
      "metadata": {
        "colab": {
          "base_uri": "https://localhost:8080/"
        },
        "id": "7wBsT3g6FF_u",
        "outputId": "3ecb949e-5849-4ef2-d938-a6372062a932"
      },
      "execution_count": 358,
      "outputs": [
        {
          "output_type": "stream",
          "name": "stdout",
          "text": [
            "--------  --------  ---------  ---------  ---------  ---------  ----------\n",
            "0.302924  0.237744  0.186477   0.17026    0.147024   0.129174   0.106746\n",
            "0.39739   0.395709  0.34769    0.307667   0.249913   0.241562   0.222188\n",
            "0.13151   0.122652  0.0920237  0.0911585  0.0857264  0.0513325  0.00485673\n",
            "0.218938  0.186764  0.168131   0.153887   0.143223   0.0469979  0.00332788\n",
            "0.390984  0.363241  0.285812   0.284564   0.192061   0.158459   0.040771\n",
            "--------  --------  ---------  ---------  ---------  ---------  ----------\n"
          ]
        }
      ]
    },
    {
      "cell_type": "markdown",
      "source": [
        "Assume natural mortality and terminal fishing mortality"
      ],
      "metadata": {
        "id": "jMff2izABsoj"
      }
    },
    {
      "cell_type": "code",
      "source": [
        "M = 0.1 # natural mortality\n",
        "F_AY = 0.2 # terminal fishing mortality\n"
      ],
      "metadata": {
        "id": "3wqIN4xETLK2"
      },
      "execution_count": 359,
      "outputs": []
    },
    {
      "cell_type": "markdown",
      "source": [
        "Run model"
      ],
      "metadata": {
        "id": "bVo76YqQBz4B"
      }
    },
    {
      "cell_type": "code",
      "source": [
        "N_ay, F_ay, Pk, N_ay_vpa = main_XSA(a, y, C_ay, u_ay, M, F_AY, w, iterations=1000)"
      ],
      "metadata": {
        "colab": {
          "base_uri": "https://localhost:8080/"
        },
        "id": "4Ed1W9C2ByyD",
        "outputId": "39517705-0053-40e4-c5e8-42111d3a5294"
      },
      "execution_count": 360,
      "outputs": [
        {
          "output_type": "stream",
          "name": "stderr",
          "text": [
            "100%|██████████| 1000/1000 [00:00<00:00, 2677.39it/s]\n"
          ]
        }
      ]
    },
    {
      "cell_type": "code",
      "source": [
        "print(tabulate(N_ay))"
      ],
      "metadata": {
        "colab": {
          "base_uri": "https://localhost:8080/"
        },
        "id": "Yii444kJUSIg",
        "outputId": "3faeecd1-2e80-489f-ad48-64e7a2ebac69"
      },
      "execution_count": 361,
      "outputs": [
        {
          "output_type": "stream",
          "name": "stdout",
          "text": [
            "-------  -------  -------  -------  --------  --------  -------\n",
            "19407.2  19664.2  19825.7  20113    19207.3   16971.9   11325.4\n",
            "18700.3  16027.2  16281    16395.5  16531.9   15693.2   13551.3\n",
            "18443.2  15634.7  13214.3  13343.3  13516     13521.5   12686.7\n",
            "18176.6  15490.5  12986.4  10757.7  10828.9   11003     10946.5\n",
            "18035.7  15354.8  12884.4  10649     8640.64   8651.34   8842.9\n",
            "-------  -------  -------  -------  --------  --------  -------\n"
          ]
        }
      ]
    },
    {
      "cell_type": "code",
      "source": [
        "print(tabulate(N_ay_vpa))"
      ],
      "metadata": {
        "colab": {
          "base_uri": "https://localhost:8080/"
        },
        "id": "21qF-1zaZJkg",
        "outputId": "1cce6154-fbee-4dbe-dc2d-50023ec4d695"
      },
      "execution_count": 362,
      "outputs": [
        {
          "output_type": "stream",
          "name": "stdout",
          "text": [
            "-------  -------  -------  -------  --------  --------  -------\n",
            "20861    18192.2  15466.1  13907.6  12112.1   10191.8   8223.96\n",
            "20408.8  17473.7  15058.8  12579.8  11158.3    9605.9   7888.29\n",
            "20151.6  17180.5  14573.3  12306.4  10118.5    8824.62  7454.23\n",
            "19885    17036.3  14385.1  12014.5   9922.5    7959.93  6823.4\n",
            "19744.1  16900.7  14283.1  11914.7   9785.84   7845.34  6099.97\n",
            "-------  -------  -------  -------  --------  --------  -------\n"
          ]
        }
      ]
    },
    {
      "cell_type": "code",
      "source": [
        "print(tabulate(F_ay))"
      ],
      "metadata": {
        "colab": {
          "base_uri": "https://localhost:8080/"
        },
        "id": "Mg1hz3SdZe34",
        "outputId": "00f72daa-36a3-4d88-c9fc-24e92c8eb5c4"
      },
      "execution_count": 363,
      "outputs": [
        {
          "output_type": "stream",
          "name": "stdout",
          "text": [
            "---  ---  --------  --------  --------  --------  ---\n",
            "0.2  0.2  0.2       0.2       0.102062  0.125074  0.2\n",
            "0.2  0.2  0.2       0.2       0.101012  0.112677  0.2\n",
            "0.2  0.2  0.105677  0.108796  0.105711  0.11126   0.2\n",
            "0.2  0.2  0.2       0.119148  0.124501  0.118548  0.2\n",
            "0.2  0.2  0.2       0.119148  0.124501  0.118548  0.2\n",
            "---  ---  --------  --------  --------  --------  ---\n"
          ]
        }
      ]
    },
    {
      "cell_type": "code",
      "source": [
        "print(Pk)"
      ],
      "metadata": {
        "colab": {
          "base_uri": "https://localhost:8080/"
        },
        "id": "9jBg0Fq0EAKo",
        "outputId": "bbe6374f-c428-41ed-a09d-8911586f5a8f"
      },
      "execution_count": 364,
      "outputs": [
        {
          "output_type": "stream",
          "name": "stdout",
          "text": [
            "[6809.12181722 6829.26944289 6998.79366641 7840.73213037 8173.32177978\n",
            " 7787.18367276 5517.48149269]\n"
          ]
        }
      ]
    },
    {
      "cell_type": "code",
      "source": [
        "years = ['1990', '1991', '1992', '1993', '1994', '1995', '1996']\n",
        "plt.plot(years, np.sum(N_ay, axis=0), label='XSA')\n",
        "plt.plot(years, np.sum(N_ay_vpa, axis=0), label='VPA')\n",
        "plt.legend()\n",
        "plt.xlabel('Years')\n",
        "plt.ylabel('Population abundance')\n",
        "plt.title('XSA vs VPA population abundance estimate')"
      ],
      "metadata": {
        "colab": {
          "base_uri": "https://localhost:8080/",
          "height": 489
        },
        "id": "6q0WkZlVaIfI",
        "outputId": "98c638fa-2940-404e-e197-44e1136ddb1c"
      },
      "execution_count": 365,
      "outputs": [
        {
          "output_type": "execute_result",
          "data": {
            "text/plain": [
              "Text(0.5, 1.0, 'XSA vs VPA population abundance estimate')"
            ]
          },
          "metadata": {},
          "execution_count": 365
        },
        {
          "output_type": "display_data",
          "data": {
            "text/plain": [
              "<Figure size 640x480 with 1 Axes>"
            ],
            "image/png": "[encoded data removed]"
          },
          "metadata": {}
        }
      ]
    }
  ]
}